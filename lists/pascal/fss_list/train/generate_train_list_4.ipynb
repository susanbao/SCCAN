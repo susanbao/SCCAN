{
 "cells": [
  {
   "cell_type": "code",
   "execution_count": 1,
   "id": "d9beb2aa-d107-4570-b4e9-f9556d583ab1",
   "metadata": {},
   "outputs": [],
   "source": [
    "import argparse\n",
    "import datetime\n",
    "import json\n",
    "import random\n",
    "import time\n",
    "from pathlib import Path\n",
    "import os, sys\n",
    "import numpy as np\n",
    "import torch\n",
    "import pickle\n",
    "import copy\n",
    "import random"
   ]
  },
  {
   "cell_type": "code",
   "execution_count": 14,
   "id": "b2858699-d625-4477-9a79-05f474e74845",
   "metadata": {},
   "outputs": [],
   "source": [
    "store_list_path = \"./data_list_4.txt\""
   ]
  },
  {
   "cell_type": "code",
   "execution_count": 4,
   "id": "2a3093fd-8918-4c16-93cc-6f5677413673",
   "metadata": {},
   "outputs": [],
   "source": [
    "val_list_path_0 = \"./data_list_0.txt\"\n",
    "with open(val_list_path_0, 'r') as f:\n",
    "    f_str = f.readlines()\n",
    "\n",
    "strings = []\n",
    "for line in f_str:\n",
    "    if len(line) < 3:\n",
    "        break\n",
    "    string = line.strip()\n",
    "    strings.append(string)"
   ]
  },
  {
   "cell_type": "code",
   "execution_count": 7,
   "id": "4b47d6cb-f509-429c-be5f-1b5c89c6b998",
   "metadata": {},
   "outputs": [
    {
     "data": {
      "text/plain": [
       "4208"
      ]
     },
     "execution_count": 7,
     "metadata": {},
     "output_type": "execute_result"
    }
   ],
   "source": [
    "len(strings)"
   ]
  },
  {
   "cell_type": "code",
   "execution_count": 8,
   "id": "9c1de08f-aba6-4471-8de2-4bef922e0484",
   "metadata": {},
   "outputs": [],
   "source": [
    "val_list_path_1 = \"./data_list_1.txt\"\n",
    "with open(val_list_path_1, 'r') as f:\n",
    "    f_str = f.readlines()\n",
    "for line in f_str:\n",
    "    if len(line) < 3:\n",
    "        break\n",
    "    string = line.strip()\n",
    "    if string not in strings:\n",
    "        strings.append(string)"
   ]
  },
  {
   "cell_type": "code",
   "execution_count": 9,
   "id": "64384659-de80-48df-b0fe-53ed0f298a73",
   "metadata": {},
   "outputs": [
    {
     "data": {
      "text/plain": [
       "5562"
      ]
     },
     "execution_count": 9,
     "metadata": {},
     "output_type": "execute_result"
    }
   ],
   "source": [
    "len(strings)"
   ]
  },
  {
   "cell_type": "code",
   "execution_count": 15,
   "id": "94a2895b-bb5a-4cb9-b82e-ec0f0230fb2e",
   "metadata": {},
   "outputs": [],
   "source": [
    "with open(store_list_path, \"w\") as file:\n",
    "    # Iterate over the list of strings\n",
    "    for string in strings:\n",
    "        # Write each string to the file, followed by a newline character\n",
    "        file.write(string + \"\\n\")"
   ]
  },
  {
   "cell_type": "code",
   "execution_count": null,
   "id": "8f77fb9a-e88c-42a3-8488-378a42cbb880",
   "metadata": {},
   "outputs": [],
   "source": []
  }
 ],
 "metadata": {
  "kernelspec": {
   "display_name": "Python 3 (ipykernel)",
   "language": "python",
   "name": "python3"
  },
  "language_info": {
   "codemirror_mode": {
    "name": "ipython",
    "version": 3
   },
   "file_extension": ".py",
   "mimetype": "text/x-python",
   "name": "python",
   "nbconvert_exporter": "python",
   "pygments_lexer": "ipython3",
   "version": "3.10.12"
  }
 },
 "nbformat": 4,
 "nbformat_minor": 5
}
