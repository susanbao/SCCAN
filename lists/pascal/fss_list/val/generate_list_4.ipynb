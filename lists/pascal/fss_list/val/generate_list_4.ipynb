{
 "cells": [
  {
   "cell_type": "code",
   "execution_count": 1,
   "id": "4b994d8b-a513-43fb-84ca-7e7033d9d773",
   "metadata": {},
   "outputs": [],
   "source": [
    "import argparse\n",
    "import datetime\n",
    "import json\n",
    "import random\n",
    "import time\n",
    "from pathlib import Path\n",
    "import os, sys\n",
    "import numpy as np\n",
    "import torch\n",
    "import pickle\n",
    "import copy\n",
    "import random"
   ]
  },
  {
   "cell_type": "code",
   "execution_count": 2,
   "id": "dcebf95d-fb8b-41b6-8394-d1116f0a11d2",
   "metadata": {},
   "outputs": [],
   "source": [
    "val_list_path = \"./val.txt\"\n",
    "with open(val_list_path, 'r') as f:\n",
    "    f_str = f.readlines()"
   ]
  },
  {
   "cell_type": "code",
   "execution_count": 5,
   "id": "82194c6f-d657-492d-bd7d-fa8171b9391f",
   "metadata": {},
   "outputs": [],
   "source": [
    "store_list_path = \"./data_list_4.txt\""
   ]
  },
  {
   "cell_type": "code",
   "execution_count": 6,
   "id": "1aceda03-5366-41ba-b678-d2a16c2f11a9",
   "metadata": {},
   "outputs": [],
   "source": [
    "strings = []\n",
    "for line in f_str:\n",
    "    if len(line) < 3:\n",
    "        break\n",
    "    string = line.strip()\n",
    "    strings.append(f\"../data/VOCdevkit2012/VOC2012/JPEGImages/{string}.jpg ../data/VOCdevkit2012/VOC2012/SegmentationClassAug/{string}.png\")"
   ]
  },
  {
   "cell_type": "code",
   "execution_count": 8,
   "id": "e3af31cd-684d-4c53-856d-23eb5aa41bed",
   "metadata": {},
   "outputs": [],
   "source": [
    "with open(store_list_path, \"w\") as file:\n",
    "    # Iterate over the list of strings\n",
    "    for string in strings:\n",
    "        # Write each string to the file, followed by a newline character\n",
    "        file.write(string + \"\\n\")"
   ]
  },
  {
   "cell_type": "code",
   "execution_count": null,
   "id": "3b6dc08e-8fee-43ff-a308-e8d267278910",
   "metadata": {},
   "outputs": [],
   "source": []
  }
 ],
 "metadata": {
  "kernelspec": {
   "display_name": "Python 3 (ipykernel)",
   "language": "python",
   "name": "python3"
  },
  "language_info": {
   "codemirror_mode": {
    "name": "ipython",
    "version": 3
   },
   "file_extension": ".py",
   "mimetype": "text/x-python",
   "name": "python",
   "nbconvert_exporter": "python",
   "pygments_lexer": "ipython3",
   "version": "3.10.12"
  }
 },
 "nbformat": 4,
 "nbformat_minor": 5
}
